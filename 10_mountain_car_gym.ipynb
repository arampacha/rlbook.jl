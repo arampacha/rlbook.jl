{
 "cells": [
  {
   "cell_type": "code",
   "execution_count": 1,
   "id": "5c670d59-d713-4781-bdfc-da428c776ca6",
   "metadata": {},
   "outputs": [],
   "source": [
    "%matplotlib inline"
   ]
  },
  {
   "cell_type": "code",
   "execution_count": 2,
   "id": "9a3a16e2-5777-4a60-aec2-62909ba77939",
   "metadata": {},
   "outputs": [],
   "source": [
    "import random\n",
    "import numpy as np\n",
    "import matplotlib.pyplot as plt\n",
    "\n",
    "import gym\n",
    "\n",
    "from tqdm.auto import tqdm, trange\n",
    "import time"
   ]
  },
  {
   "cell_type": "code",
   "execution_count": 3,
   "id": "50fefc0d-1e0c-4919-ab9e-92634ca1a76c",
   "metadata": {},
   "outputs": [],
   "source": [
    "from tiles3 import IHT, tiles"
   ]
  },
  {
   "cell_type": "code",
   "execution_count": 4,
   "id": "91163240-6d38-4c15-86f6-b031d55de37f",
   "metadata": {},
   "outputs": [
    {
     "name": "stdout",
     "output_type": "stream",
     "text": [
      "[0, 1, 2, 3, 4, 5, 6, 7]\n",
      "[0, 1, 2, 8, 4, 5, 6, 7]\n",
      "[9, 10, 11, 12, 13, 14, 15, 16]\n",
      "[9, 10, 17, 8, 4, 5, 6, 18]\n"
     ]
    }
   ],
   "source": [
    "iht = IHT(1024)\n",
    "\n",
    "print(tiles(iht, 8, [3.6, 7.2]))\n",
    "print(tiles(iht, 8, [3.7, 7.2]))\n",
    "print(tiles(iht, 8, [4.8, 7.5]))\n",
    "print(tiles(iht, 8, [4.2, 7.35]))"
   ]
  },
  {
   "cell_type": "code",
   "execution_count": 5,
   "id": "97246400-13f2-4044-94a2-5086d7d6d4bd",
   "metadata": {},
   "outputs": [
    {
     "name": "stdout",
     "output_type": "stream",
     "text": [
      "[0, 1, 2, 3, 4, 5, 6, 7]\n",
      "[8, 9, 10, 11, 12, 13, 14, 15]\n"
     ]
    }
   ],
   "source": [
    "max_size = 4096\n",
    "iht=IHT(max_size)\n",
    "\n",
    "x, xdot = -0.5, 0.0\n",
    "a = 0\n",
    "print(tiles(iht,8,[8*x/(0.5+1.2),8*xdot/(0.07+0.07)],[a]))\n",
    "a = 1\n",
    "print(tiles(iht,8,[8*x/(0.5+1.2),8*xdot/(0.07+0.07)],[a]))"
   ]
  },
  {
   "cell_type": "code",
   "execution_count": 6,
   "id": "de8ebbb5-3c5c-4b59-be69-d19203b66ab5",
   "metadata": {},
   "outputs": [],
   "source": [
    "def scale(s):\n",
    "    return [10*s[0]/(0.6+1.2),10*s[1]/(0.07+0.07)]"
   ]
  },
  {
   "cell_type": "code",
   "execution_count": 134,
   "id": "fcdef3b6-991d-4855-b465-4e99df24b47a",
   "metadata": {
    "tags": []
   },
   "outputs": [
    {
     "name": "stdout",
     "output_type": "stream",
     "text": [
      "[-4.18486126e-01  2.26269087e-04] 2 -1.0\n",
      "[100, 101, 102, 116, 117, 118, 119, 107]\n",
      "[-0.40489529  0.00214977] 2 -1.0\n",
      "[100, 101, 211, 116, 117, 209, 119, 107]\n",
      "[-0.37916063  0.00265158] 2 -1.0\n",
      "[100, 252, 211, 116, 117, 209, 119, 107]\n",
      "[-0.3580751  0.0014433] 2 -1.0\n",
      "[257, 252, 211, 116, 117, 118, 119, 107]\n",
      "[-0.35505829 -0.00067301] 2 -1.0\n",
      "[260, 252, 211, 116, 117, 118, 119, 107]\n",
      "[-0.37200303 -0.00236803] 2 -1.0\n",
      "[122, 252, 211, 125, 117, 118, 119, 107]\n",
      "[-0.3981885 -0.002552 ] 2 -1.0\n",
      "[122, 101, 211, 125, 117, 118, 119, 107]\n",
      "[-0.41664748 -0.00106247] 2 -1.0\n",
      "[122, 101, 102, 116, 117, 118, 119, 107]\n",
      "[-0.41515755  0.00113596] 2 -1.0\n",
      "[100, 101, 102, 116, 117, 118, 119, 107]\n",
      "[-0.39471265  0.00257671] 2 -1.0\n",
      "[100, 101, 211, 116, 117, 209, 119, 107]\n"
     ]
    }
   ],
   "source": [
    "env = gym.make('MountainCar-v0')\n",
    "env._max_episode_steps = 10_000\n",
    "env.reset()\n",
    "for step in range(100):\n",
    "    env.render()\n",
    "    a = 2#env.action_space.sample()\n",
    "    observation, reward, done, info = env.step(a)\n",
    "    \n",
    "    if step % 10 == 0:\n",
    "        print(observation, a, reward)\n",
    "        print(tiles(iht, 8, scale(observation), [a]))\n",
    "    time.sleep(0.02)\n",
    "env.close()"
   ]
  },
  {
   "cell_type": "code",
   "execution_count": 8,
   "id": "cd2362b8-8118-46d3-b767-3bd2b2ea28f3",
   "metadata": {},
   "outputs": [
    {
     "data": {
      "text/plain": [
       "Box([-1.2  -0.07], [0.6  0.07], (2,), float32)"
      ]
     },
     "execution_count": 8,
     "metadata": {},
     "output_type": "execute_result"
    }
   ],
   "source": [
    "env.observation_space"
   ]
  },
  {
   "cell_type": "code",
   "execution_count": 15,
   "id": "36aa9b91-fe82-49cc-a2c7-837d880121c5",
   "metadata": {},
   "outputs": [],
   "source": [
    "w = np.random.randn(max_size)\n",
    "\n",
    "x = tiles(iht, 8, scale(observation), [0])"
   ]
  },
  {
   "cell_type": "code",
   "execution_count": 16,
   "id": "1c167d60-1370-4fb4-9cbc-cef2eee0e200",
   "metadata": {},
   "outputs": [
    {
     "data": {
      "text/plain": [
       "array([ 0.83059354,  1.79007533, -0.93226664,  0.54205173,  0.99181322,\n",
       "       -0.12729111, -0.60425683,  0.07228659])"
      ]
     },
     "execution_count": 16,
     "metadata": {},
     "output_type": "execute_result"
    }
   ],
   "source": [
    "w[x]"
   ]
  },
  {
   "cell_type": "code",
   "execution_count": 17,
   "id": "71f5a03f-1e96-4f28-bf59-971d4bd1d652",
   "metadata": {},
   "outputs": [],
   "source": [
    "def q_hat(s,a,w):\n",
    "    x = tiles(iht, 8, scale(s), [a])\n",
    "    return w[x].sum()"
   ]
  },
  {
   "cell_type": "code",
   "execution_count": 18,
   "id": "2c035e0e-27a7-4c0a-9330-7b7fd2d3f783",
   "metadata": {},
   "outputs": [
    {
     "data": {
      "text/plain": [
       "(2.563005816452455, 2.832190829955462, 3.7223610873224766)"
      ]
     },
     "execution_count": 18,
     "metadata": {},
     "output_type": "execute_result"
    }
   ],
   "source": [
    "q_hat(observation, 0, w), q_hat(observation, 1, w), q_hat(observation, 2, w)"
   ]
  },
  {
   "cell_type": "markdown",
   "id": "9f13352e-2d2e-4b3a-a5c9-c38677c5b181",
   "metadata": {},
   "source": [
    "## Episodic semi-gradient Sarsa "
   ]
  },
  {
   "cell_type": "code",
   "execution_count": 19,
   "id": "a0c82642-8951-4d5f-8e9a-b21b3927c552",
   "metadata": {},
   "outputs": [],
   "source": [
    "def greedy(s, w):\n",
    "    return max(range(3), key=lambda a: q_hat(s, a, w))\n",
    "\n",
    "def eps_greedy(s, w, eps=0.1):\n",
    "    if random.random() < eps:\n",
    "        return random.randint(0,2)\n",
    "    else:\n",
    "        return greedy(s, w)"
   ]
  },
  {
   "cell_type": "code",
   "execution_count": 133,
   "id": "75c32dce-f889-4e9f-a26b-49f5793afddb",
   "metadata": {},
   "outputs": [],
   "source": [
    "def run_sarsa(n_episodes=10, alpha=0.2, gamma=1., eps=0.1):\n",
    "    max_steps = 100_000\n",
    "    steps_per_episode = np.zeros(n_episodes, )\n",
    "    \n",
    "    alpha /= 8\n",
    "    w = np.zeros((max_size))\n",
    "    pbar = trange(n_episodes, leave=False)\n",
    "    for e in pbar:\n",
    "        \n",
    "        s = env.reset()\n",
    "        a = env.action_space.sample()\n",
    "        done = False\n",
    "        \n",
    "        for step in range(max_steps):\n",
    "            idx = tiles(iht, 8, scale(s), [a])\n",
    "            sp, r, done, info = env.step(a)\n",
    "            if done:\n",
    "                w[idx] += alpha * (r - q_hat(s,a,w))\n",
    "                steps_per_episode[e] = step+1\n",
    "                break\n",
    "            ap = eps_greedy(s, w, eps/(e+1))\n",
    "            w[idx] += alpha * (r + gamma*q_hat(sp,ap,w) - q_hat(s,a,w))\n",
    "            s, a = sp, ap\n",
    "        pbar.set_description(f\"steps/ep. {steps_per_episode[e]}\")\n",
    "    return steps_per_episode, w"
   ]
  },
  {
   "cell_type": "code",
   "execution_count": 131,
   "id": "70c17b5a-ca9e-4df7-965a-b2d71a372785",
   "metadata": {},
   "outputs": [],
   "source": [
    "# steps_per_episode, w = run_sarsa(500)\n",
    "\n",
    "# plt.plot(steps_per_episode)\n",
    "# plt.ylim([100, 1000])\n",
    "# plt.yscale(\"log\")\n",
    "# plt.show()"
   ]
  },
  {
   "cell_type": "code",
   "execution_count": 132,
   "id": "deba824f-c9e0-478f-ac2e-d9ecbb20f6bd",
   "metadata": {},
   "outputs": [
    {
     "data": {
      "application/vnd.jupyter.widget-view+json": {
       "model_id": "",
       "version_major": 2,
       "version_minor": 0
      },
      "text/plain": [
       "  0%|          | 0/500 [00:00<?, ?it/s]"
      ]
     },
     "metadata": {},
     "output_type": "display_data"
    },
    {
     "data": {
      "application/vnd.jupyter.widget-view+json": {
       "model_id": "",
       "version_major": 2,
       "version_minor": 0
      },
      "text/plain": [
       "  0%|          | 0/500 [00:00<?, ?it/s]"
      ]
     },
     "metadata": {},
     "output_type": "display_data"
    },
    {
     "data": {
      "application/vnd.jupyter.widget-view+json": {
       "model_id": "",
       "version_major": 2,
       "version_minor": 0
      },
      "text/plain": [
       "  0%|          | 0/500 [00:00<?, ?it/s]"
      ]
     },
     "metadata": {},
     "output_type": "display_data"
    },
    {
     "data": {
      "application/vnd.jupyter.widget-view+json": {
       "model_id": "",
       "version_major": 2,
       "version_minor": 0
      },
      "text/plain": [
       "  0%|          | 0/500 [00:00<?, ?it/s]"
      ]
     },
     "metadata": {},
     "output_type": "display_data"
    },
    {
     "data": {
      "application/vnd.jupyter.widget-view+json": {
       "model_id": "",
       "version_major": 2,
       "version_minor": 0
      },
      "text/plain": [
       "  0%|          | 0/500 [00:00<?, ?it/s]"
      ]
     },
     "metadata": {},
     "output_type": "display_data"
    },
    {
     "data": {
      "application/vnd.jupyter.widget-view+json": {
       "model_id": "",
       "version_major": 2,
       "version_minor": 0
      },
      "text/plain": [
       "  0%|          | 0/500 [00:00<?, ?it/s]"
      ]
     },
     "metadata": {},
     "output_type": "display_data"
    },
    {
     "data": {
      "application/vnd.jupyter.widget-view+json": {
       "model_id": "",
       "version_major": 2,
       "version_minor": 0
      },
      "text/plain": [
       "  0%|          | 0/500 [00:00<?, ?it/s]"
      ]
     },
     "metadata": {},
     "output_type": "display_data"
    },
    {
     "data": {
      "application/vnd.jupyter.widget-view+json": {
       "model_id": "",
       "version_major": 2,
       "version_minor": 0
      },
      "text/plain": [
       "  0%|          | 0/500 [00:00<?, ?it/s]"
      ]
     },
     "metadata": {},
     "output_type": "display_data"
    },
    {
     "data": {
      "application/vnd.jupyter.widget-view+json": {
       "model_id": "",
       "version_major": 2,
       "version_minor": 0
      },
      "text/plain": [
       "  0%|          | 0/500 [00:00<?, ?it/s]"
      ]
     },
     "metadata": {},
     "output_type": "display_data"
    },
    {
     "data": {
      "application/vnd.jupyter.widget-view+json": {
       "model_id": "",
       "version_major": 2,
       "version_minor": 0
      },
      "text/plain": [
       "  0%|          | 0/500 [00:00<?, ?it/s]"
      ]
     },
     "metadata": {},
     "output_type": "display_data"
    },
    {
     "data": {
      "application/vnd.jupyter.widget-view+json": {
       "model_id": "",
       "version_major": 2,
       "version_minor": 0
      },
      "text/plain": [
       "  0%|          | 0/500 [00:00<?, ?it/s]"
      ]
     },
     "metadata": {},
     "output_type": "display_data"
    },
    {
     "data": {
      "application/vnd.jupyter.widget-view+json": {
       "model_id": "",
       "version_major": 2,
       "version_minor": 0
      },
      "text/plain": [
       "  0%|          | 0/500 [00:00<?, ?it/s]"
      ]
     },
     "metadata": {},
     "output_type": "display_data"
    },
    {
     "data": {
      "application/vnd.jupyter.widget-view+json": {
       "model_id": "",
       "version_major": 2,
       "version_minor": 0
      },
      "text/plain": [
       "  0%|          | 0/500 [00:00<?, ?it/s]"
      ]
     },
     "metadata": {},
     "output_type": "display_data"
    },
    {
     "data": {
      "application/vnd.jupyter.widget-view+json": {
       "model_id": "",
       "version_major": 2,
       "version_minor": 0
      },
      "text/plain": [
       "  0%|          | 0/500 [00:00<?, ?it/s]"
      ]
     },
     "metadata": {},
     "output_type": "display_data"
    },
    {
     "data": {
      "application/vnd.jupyter.widget-view+json": {
       "model_id": "",
       "version_major": 2,
       "version_minor": 0
      },
      "text/plain": [
       "  0%|          | 0/500 [00:00<?, ?it/s]"
      ]
     },
     "metadata": {},
     "output_type": "display_data"
    },
    {
     "data": {
      "application/vnd.jupyter.widget-view+json": {
       "model_id": "",
       "version_major": 2,
       "version_minor": 0
      },
      "text/plain": [
       "  0%|          | 0/500 [00:00<?, ?it/s]"
      ]
     },
     "metadata": {},
     "output_type": "display_data"
    },
    {
     "data": {
      "application/vnd.jupyter.widget-view+json": {
       "model_id": "",
       "version_major": 2,
       "version_minor": 0
      },
      "text/plain": [
       "  0%|          | 0/500 [00:00<?, ?it/s]"
      ]
     },
     "metadata": {},
     "output_type": "display_data"
    },
    {
     "data": {
      "application/vnd.jupyter.widget-view+json": {
       "model_id": "",
       "version_major": 2,
       "version_minor": 0
      },
      "text/plain": [
       "  0%|          | 0/500 [00:00<?, ?it/s]"
      ]
     },
     "metadata": {},
     "output_type": "display_data"
    },
    {
     "data": {
      "application/vnd.jupyter.widget-view+json": {
       "model_id": "",
       "version_major": 2,
       "version_minor": 0
      },
      "text/plain": [
       "  0%|          | 0/500 [00:00<?, ?it/s]"
      ]
     },
     "metadata": {},
     "output_type": "display_data"
    },
    {
     "data": {
      "application/vnd.jupyter.widget-view+json": {
       "model_id": "",
       "version_major": 2,
       "version_minor": 0
      },
      "text/plain": [
       "  0%|          | 0/500 [00:00<?, ?it/s]"
      ]
     },
     "metadata": {},
     "output_type": "display_data"
    },
    {
     "data": {
      "application/vnd.jupyter.widget-view+json": {
       "model_id": "",
       "version_major": 2,
       "version_minor": 0
      },
      "text/plain": [
       "  0%|          | 0/500 [00:00<?, ?it/s]"
      ]
     },
     "metadata": {},
     "output_type": "display_data"
    },
    {
     "data": {
      "application/vnd.jupyter.widget-view+json": {
       "model_id": "",
       "version_major": 2,
       "version_minor": 0
      },
      "text/plain": [
       "  0%|          | 0/500 [00:00<?, ?it/s]"
      ]
     },
     "metadata": {},
     "output_type": "display_data"
    },
    {
     "data": {
      "application/vnd.jupyter.widget-view+json": {
       "model_id": "",
       "version_major": 2,
       "version_minor": 0
      },
      "text/plain": [
       "  0%|          | 0/500 [00:00<?, ?it/s]"
      ]
     },
     "metadata": {},
     "output_type": "display_data"
    },
    {
     "data": {
      "application/vnd.jupyter.widget-view+json": {
       "model_id": "",
       "version_major": 2,
       "version_minor": 0
      },
      "text/plain": [
       "  0%|          | 0/500 [00:00<?, ?it/s]"
      ]
     },
     "metadata": {},
     "output_type": "display_data"
    },
    {
     "data": {
      "application/vnd.jupyter.widget-view+json": {
       "model_id": "",
       "version_major": 2,
       "version_minor": 0
      },
      "text/plain": [
       "  0%|          | 0/500 [00:00<?, ?it/s]"
      ]
     },
     "metadata": {},
     "output_type": "display_data"
    },
    {
     "data": {
      "application/vnd.jupyter.widget-view+json": {
       "model_id": "",
       "version_major": 2,
       "version_minor": 0
      },
      "text/plain": [
       "  0%|          | 0/500 [00:00<?, ?it/s]"
      ]
     },
     "metadata": {},
     "output_type": "display_data"
    },
    {
     "data": {
      "application/vnd.jupyter.widget-view+json": {
       "model_id": "",
       "version_major": 2,
       "version_minor": 0
      },
      "text/plain": [
       "  0%|          | 0/500 [00:00<?, ?it/s]"
      ]
     },
     "metadata": {},
     "output_type": "display_data"
    },
    {
     "data": {
      "application/vnd.jupyter.widget-view+json": {
       "model_id": "",
       "version_major": 2,
       "version_minor": 0
      },
      "text/plain": [
       "  0%|          | 0/500 [00:00<?, ?it/s]"
      ]
     },
     "metadata": {},
     "output_type": "display_data"
    },
    {
     "data": {
      "application/vnd.jupyter.widget-view+json": {
       "model_id": "",
       "version_major": 2,
       "version_minor": 0
      },
      "text/plain": [
       "  0%|          | 0/500 [00:00<?, ?it/s]"
      ]
     },
     "metadata": {},
     "output_type": "display_data"
    },
    {
     "data": {
      "application/vnd.jupyter.widget-view+json": {
       "model_id": "",
       "version_major": 2,
       "version_minor": 0
      },
      "text/plain": [
       "  0%|          | 0/500 [00:00<?, ?it/s]"
      ]
     },
     "metadata": {},
     "output_type": "display_data"
    },
    {
     "data": {
      "application/vnd.jupyter.widget-view+json": {
       "model_id": "",
       "version_major": 2,
       "version_minor": 0
      },
      "text/plain": [
       "  0%|          | 0/500 [00:00<?, ?it/s]"
      ]
     },
     "metadata": {},
     "output_type": "display_data"
    },
    {
     "data": {
      "application/vnd.jupyter.widget-view+json": {
       "model_id": "",
       "version_major": 2,
       "version_minor": 0
      },
      "text/plain": [
       "  0%|          | 0/500 [00:00<?, ?it/s]"
      ]
     },
     "metadata": {},
     "output_type": "display_data"
    },
    {
     "data": {
      "application/vnd.jupyter.widget-view+json": {
       "model_id": "",
       "version_major": 2,
       "version_minor": 0
      },
      "text/plain": [
       "  0%|          | 0/500 [00:00<?, ?it/s]"
      ]
     },
     "metadata": {},
     "output_type": "display_data"
    },
    {
     "data": {
      "application/vnd.jupyter.widget-view+json": {
       "model_id": "",
       "version_major": 2,
       "version_minor": 0
      },
      "text/plain": [
       "  0%|          | 0/500 [00:00<?, ?it/s]"
      ]
     },
     "metadata": {},
     "output_type": "display_data"
    },
    {
     "data": {
      "application/vnd.jupyter.widget-view+json": {
       "model_id": "",
       "version_major": 2,
       "version_minor": 0
      },
      "text/plain": [
       "  0%|          | 0/500 [00:00<?, ?it/s]"
      ]
     },
     "metadata": {},
     "output_type": "display_data"
    },
    {
     "data": {
      "application/vnd.jupyter.widget-view+json": {
       "model_id": "",
       "version_major": 2,
       "version_minor": 0
      },
      "text/plain": [
       "  0%|          | 0/500 [00:00<?, ?it/s]"
      ]
     },
     "metadata": {},
     "output_type": "display_data"
    },
    {
     "data": {
      "application/vnd.jupyter.widget-view+json": {
       "model_id": "",
       "version_major": 2,
       "version_minor": 0
      },
      "text/plain": [
       "  0%|          | 0/500 [00:00<?, ?it/s]"
      ]
     },
     "metadata": {},
     "output_type": "display_data"
    },
    {
     "data": {
      "application/vnd.jupyter.widget-view+json": {
       "model_id": "",
       "version_major": 2,
       "version_minor": 0
      },
      "text/plain": [
       "  0%|          | 0/500 [00:00<?, ?it/s]"
      ]
     },
     "metadata": {},
     "output_type": "display_data"
    },
    {
     "data": {
      "application/vnd.jupyter.widget-view+json": {
       "model_id": "",
       "version_major": 2,
       "version_minor": 0
      },
      "text/plain": [
       "  0%|          | 0/500 [00:00<?, ?it/s]"
      ]
     },
     "metadata": {},
     "output_type": "display_data"
    },
    {
     "data": {
      "application/vnd.jupyter.widget-view+json": {
       "model_id": "",
       "version_major": 2,
       "version_minor": 0
      },
      "text/plain": [
       "  0%|          | 0/500 [00:00<?, ?it/s]"
      ]
     },
     "metadata": {},
     "output_type": "display_data"
    },
    {
     "data": {
      "application/vnd.jupyter.widget-view+json": {
       "model_id": "",
       "version_major": 2,
       "version_minor": 0
      },
      "text/plain": [
       "  0%|          | 0/500 [00:00<?, ?it/s]"
      ]
     },
     "metadata": {},
     "output_type": "display_data"
    },
    {
     "data": {
      "application/vnd.jupyter.widget-view+json": {
       "model_id": "",
       "version_major": 2,
       "version_minor": 0
      },
      "text/plain": [
       "  0%|          | 0/500 [00:00<?, ?it/s]"
      ]
     },
     "metadata": {},
     "output_type": "display_data"
    },
    {
     "data": {
      "application/vnd.jupyter.widget-view+json": {
       "model_id": "",
       "version_major": 2,
       "version_minor": 0
      },
      "text/plain": [
       "  0%|          | 0/500 [00:00<?, ?it/s]"
      ]
     },
     "metadata": {},
     "output_type": "display_data"
    },
    {
     "data": {
      "application/vnd.jupyter.widget-view+json": {
       "model_id": "",
       "version_major": 2,
       "version_minor": 0
      },
      "text/plain": [
       "  0%|          | 0/500 [00:00<?, ?it/s]"
      ]
     },
     "metadata": {},
     "output_type": "display_data"
    },
    {
     "data": {
      "application/vnd.jupyter.widget-view+json": {
       "model_id": "",
       "version_major": 2,
       "version_minor": 0
      },
      "text/plain": [
       "  0%|          | 0/500 [00:00<?, ?it/s]"
      ]
     },
     "metadata": {},
     "output_type": "display_data"
    },
    {
     "data": {
      "application/vnd.jupyter.widget-view+json": {
       "model_id": "",
       "version_major": 2,
       "version_minor": 0
      },
      "text/plain": [
       "  0%|          | 0/500 [00:00<?, ?it/s]"
      ]
     },
     "metadata": {},
     "output_type": "display_data"
    },
    {
     "data": {
      "application/vnd.jupyter.widget-view+json": {
       "model_id": "",
       "version_major": 2,
       "version_minor": 0
      },
      "text/plain": [
       "  0%|          | 0/500 [00:00<?, ?it/s]"
      ]
     },
     "metadata": {},
     "output_type": "display_data"
    },
    {
     "data": {
      "application/vnd.jupyter.widget-view+json": {
       "model_id": "",
       "version_major": 2,
       "version_minor": 0
      },
      "text/plain": [
       "  0%|          | 0/500 [00:00<?, ?it/s]"
      ]
     },
     "metadata": {},
     "output_type": "display_data"
    },
    {
     "data": {
      "application/vnd.jupyter.widget-view+json": {
       "model_id": "",
       "version_major": 2,
       "version_minor": 0
      },
      "text/plain": [
       "  0%|          | 0/500 [00:00<?, ?it/s]"
      ]
     },
     "metadata": {},
     "output_type": "display_data"
    },
    {
     "data": {
      "application/vnd.jupyter.widget-view+json": {
       "model_id": "",
       "version_major": 2,
       "version_minor": 0
      },
      "text/plain": [
       "  0%|          | 0/500 [00:00<?, ?it/s]"
      ]
     },
     "metadata": {},
     "output_type": "display_data"
    },
    {
     "data": {
      "application/vnd.jupyter.widget-view+json": {
       "model_id": "",
       "version_major": 2,
       "version_minor": 0
      },
      "text/plain": [
       "  0%|          | 0/500 [00:00<?, ?it/s]"
      ]
     },
     "metadata": {},
     "output_type": "display_data"
    },
    {
     "data": {
      "application/vnd.jupyter.widget-view+json": {
       "model_id": "",
       "version_major": 2,
       "version_minor": 0
      },
      "text/plain": [
       "  0%|          | 0/500 [00:00<?, ?it/s]"
      ]
     },
     "metadata": {},
     "output_type": "display_data"
    },
    {
     "data": {
      "application/vnd.jupyter.widget-view+json": {
       "model_id": "",
       "version_major": 2,
       "version_minor": 0
      },
      "text/plain": [
       "  0%|          | 0/500 [00:00<?, ?it/s]"
      ]
     },
     "metadata": {},
     "output_type": "display_data"
    },
    {
     "data": {
      "application/vnd.jupyter.widget-view+json": {
       "model_id": "",
       "version_major": 2,
       "version_minor": 0
      },
      "text/plain": [
       "  0%|          | 0/500 [00:00<?, ?it/s]"
      ]
     },
     "metadata": {},
     "output_type": "display_data"
    },
    {
     "data": {
      "application/vnd.jupyter.widget-view+json": {
       "model_id": "",
       "version_major": 2,
       "version_minor": 0
      },
      "text/plain": [
       "  0%|          | 0/500 [00:00<?, ?it/s]"
      ]
     },
     "metadata": {},
     "output_type": "display_data"
    },
    {
     "data": {
      "application/vnd.jupyter.widget-view+json": {
       "model_id": "",
       "version_major": 2,
       "version_minor": 0
      },
      "text/plain": [
       "  0%|          | 0/500 [00:00<?, ?it/s]"
      ]
     },
     "metadata": {},
     "output_type": "display_data"
    },
    {
     "data": {
      "application/vnd.jupyter.widget-view+json": {
       "model_id": "",
       "version_major": 2,
       "version_minor": 0
      },
      "text/plain": [
       "  0%|          | 0/500 [00:00<?, ?it/s]"
      ]
     },
     "metadata": {},
     "output_type": "display_data"
    },
    {
     "data": {
      "application/vnd.jupyter.widget-view+json": {
       "model_id": "",
       "version_major": 2,
       "version_minor": 0
      },
      "text/plain": [
       "  0%|          | 0/500 [00:00<?, ?it/s]"
      ]
     },
     "metadata": {},
     "output_type": "display_data"
    },
    {
     "data": {
      "application/vnd.jupyter.widget-view+json": {
       "model_id": "",
       "version_major": 2,
       "version_minor": 0
      },
      "text/plain": [
       "  0%|          | 0/500 [00:00<?, ?it/s]"
      ]
     },
     "metadata": {},
     "output_type": "display_data"
    },
    {
     "data": {
      "application/vnd.jupyter.widget-view+json": {
       "model_id": "",
       "version_major": 2,
       "version_minor": 0
      },
      "text/plain": [
       "  0%|          | 0/500 [00:00<?, ?it/s]"
      ]
     },
     "metadata": {},
     "output_type": "display_data"
    },
    {
     "data": {
      "image/png": "[encoded data removed]",
      "text/plain": [
       "<Figure size 432x288 with 1 Axes>"
      ]
     },
     "metadata": {
      "needs_background": "light"
     },
     "output_type": "display_data"
    }
   ],
   "source": [
    "n_episolinspace= 500\n",
    "fig = plt.figure(figsize=(12, 8))\n",
    "\n",
    "for alpha in [0.1, 0.2, 0.5]:\n",
    "    avg_steps_per_episode = np.zeros(n_episodes)\n",
    "    for i in range(1,21):\n",
    "        steps_per_episode, w = run_sarsa(n_episodes, alpha=alpha)\n",
    "        avg_steps_per_episode += (steps_per_episode - avg_steps_per_episode)/i\n",
    "    \n",
    "    plt.plot(steps_per_episode, label=f\"α = {alpha}/8\")\n",
    "    \n",
    "plt.ylim([100, 1000])\n",
    "plt.yscale(\"log\")\n",
    "plt.legend(loc='upper right')\n",
    "plt.show()"
   ]
  },
  {
   "cell_type": "code",
   "execution_count": 33,
   "id": "0c9213ba-e9d1-43ef-8036-c310782f8232",
   "metadata": {},
   "outputs": [
    {
     "name": "stdout",
     "output_type": "stream",
     "text": [
      "Total reward = -161.0\n"
     ]
    }
   ],
   "source": [
    "s = env.reset()\n",
    "done = False\n",
    "total_reward = 0\n",
    "while not done:\n",
    "    env.render()\n",
    "    # greedy policy\n",
    "    a = max(range(3), key=lambda a: q_hat(s,a,w))\n",
    "    s, r, done, info = env.step(a)\n",
    "    total_reward += r\n",
    "    time.sleep(0.01)\n",
    "env.close()\n",
    "print(\"Total reward =\", total_reward)"
   ]
  },
  {
   "cell_type": "markdown",
   "id": "dca1ee75-7f82-40ee-8f39-a4f8a210b90f",
   "metadata": {},
   "source": [
    "### Value function landscape"
   ]
  },
  {
   "cell_type": "code",
   "execution_count": null,
   "id": "d9ae168a-3469-4acb-92fd-ce5b452d9308",
   "metadata": {},
   "outputs": [],
   "source": [
    "x = np.linspace(-1.2, 0.6, 100)\n",
    "xdot = np.linspace(-0.07, 0.07, 100)\n",
    "\n"
   ]
  },
  {
   "cell_type": "code",
   "execution_count": 29,
   "id": "60250972-ddc1-4815-9d46-6fffc03fb840",
   "metadata": {},
   "outputs": [],
   "source": [
    "def run_qlearning(n_episodes=10, alpha=0.2, gamma=1., eps=0.05):\n",
    "    max_steps = 100_000\n",
    "    steps_per_episode = np.zeros(n_episodes, )\n",
    "    \n",
    "    alpha /= 8\n",
    "    w = np.zeros((max_size))\n",
    "    pbar = trange(n_episodes)\n",
    "    for e in pbar:\n",
    "        \n",
    "        s = env.reset()\n",
    "        a = env.action_space.sample()\n",
    "        done = False\n",
    "        \n",
    "        for step in range(max_steps):\n",
    "            idx = tiles(iht, 8, scale(s), [a])\n",
    "            sp, r, done, info = env.step(a)\n",
    "            if done:\n",
    "                w[idx] += alpha * (r - q_hat(s,a,w))\n",
    "                steps_per_episode[e] = step+1\n",
    "                break\n",
    "            ap = eps_greedy(s, w)\n",
    "            w[idx] += alpha * (r + gamma*max([q_hat(sp, a_, w) for a_ in range(3)]) - q_hat(s,a,w))\n",
    "            s, a = sp, ap\n",
    "        pbar.set_description(f\"steps/ep. {steps_per_episode[e]}\")\n",
    "    return steps_per_episode, w"
   ]
  },
  {
   "cell_type": "code",
   "execution_count": 31,
   "id": "9008bbc5-482d-4120-a949-903f33260897",
   "metadata": {},
   "outputs": [
    {
     "data": {
      "application/vnd.jupyter.widget-view+json": {
       "model_id": "21312f7ecc684042866acab63ca3ae23",
       "version_major": 2,
       "version_minor": 0
      },
      "text/plain": [
       "  0%|          | 0/100 [00:00<?, ?it/s]"
      ]
     },
     "metadata": {},
     "output_type": "display_data"
    },
    {
     "data": {
      "application/vnd.jupyter.widget-view+json": {
       "model_id": "1a76d98b4d024df59b81a4eb299011cb",
       "version_major": 2,
       "version_minor": 0
      },
      "text/plain": [
       "  0%|          | 0/100 [00:00<?, ?it/s]"
      ]
     },
     "metadata": {},
     "output_type": "display_data"
    },
    {
     "data": {
      "application/vnd.jupyter.widget-view+json": {
       "model_id": "8dea495b76dd4b9385bc81b620b99dfe",
       "version_major": 2,
       "version_minor": 0
      },
      "text/plain": [
       "  0%|          | 0/100 [00:00<?, ?it/s]"
      ]
     },
     "metadata": {},
     "output_type": "display_data"
    },
    {
     "data": {
      "image/png": "[encoded data removed]",
      "text/plain": [
       "<Figure size 432x288 with 1 Axes>"
      ]
     },
     "metadata": {
      "needs_background": "light"
     },
     "output_type": "display_data"
    }
   ],
   "source": [
    "fig = plt.figure()\n",
    "\n",
    "for alpha in [0.1, 0.2, 0.5]:\n",
    "    steps_per_episode, w = run_qlearning(100, alpha=alpha)\n",
    "    plt.plot(steps_per_episode, label=f\"α = {alpha}/8\")\n",
    "    \n",
    "plt.ylim([100, 1000])\n",
    "plt.yscale(\"log\")\n",
    "plt.legend(loc='upper right')\n",
    "plt.show()"
   ]
  },
  {
   "cell_type": "markdown",
   "id": "d00883d7-d4cb-4af7-b461-ff8e59d3cccd",
   "metadata": {},
   "source": [
    "## Episodic semi-gradient n-step Sarsa"
   ]
  },
  {
   "cell_type": "code",
   "execution_count": 121,
   "id": "2f4932c9-88a4-48af-8309-2dbc33246ea8",
   "metadata": {},
   "outputs": [],
   "source": [
    "def run_nsarsa(n=1, n_episodes=10, alpha=0.2, gamma=1., eps=0.1):\n",
    "    max_steps = 100_000\n",
    "    steps_per_episode = np.zeros(n_episodes, )\n",
    "    \n",
    "    [S, A, R] = np.zeros((n+1,2)), np.zeros(n+1), np.zeros(n+1)\n",
    "    alpha /= 8\n",
    "    w = np.zeros((max_size))\n",
    "    pbar = trange(n_episodes, leave=False)\n",
    "    for e in pbar:\n",
    "        \n",
    "        s = env.reset()\n",
    "        a = env.action_space.sample()\n",
    "        S[0], A[0] = s, a\n",
    "        T = float(\"inf\")\n",
    "        \n",
    "        for t in range(max_steps):\n",
    "            if t < T:\n",
    "                sp, r, done, info = env.step(a)\n",
    "                R[(t+1)%(n+1)] = r\n",
    "                S[(t+1)%(n+1)] = sp\n",
    "\n",
    "                if done:\n",
    "                    T = t + 1\n",
    "                    steps_per_episode[e] = T\n",
    "                else:\n",
    "                    ap = eps_greedy(s, w, eps/(e+1))\n",
    "                    A[(t+1)%(n+1)] = ap\n",
    "            tau = t-n+1\n",
    "            if tau >= 0:\n",
    "                G = sum(\n",
    "                    [gamma**(i-tau-1)*R[i%(n+1)] for i in range(tau+1,min(tau+n, T)+1)]\n",
    "                )\n",
    "                if tau+n < T:\n",
    "                    G += gamma**n * q_hat(S[(tau+n)%(n+1)], A[(tau+n)%(n+1)], w)\n",
    "                \n",
    "                idx = tiles(iht, 8, scale(S[tau%(n+1)]), [A[tau%(n+1)]])\n",
    "                w[idx] += alpha * (G - q_hat(S[tau%(n+1)],A[tau%(n+1)],w))\n",
    "                s, a = sp, ap\n",
    "            if tau == T-1:\n",
    "                break\n",
    "        pbar.set_description(f\"steps/ep. {steps_per_episode[e]}\")\n",
    "    return steps_per_episode, w"
   ]
  },
  {
   "cell_type": "code",
   "execution_count": 136,
   "id": "ec0b2a2f-8533-48cb-960d-a95ec10c2ae1",
   "metadata": {},
   "outputs": [
    {
     "data": {
      "application/vnd.jupyter.widget-view+json": {
       "model_id": "",
       "version_major": 2,
       "version_minor": 0
      },
      "text/plain": [
       "  0%|          | 0/500 [00:00<?, ?it/s]"
      ]
     },
     "metadata": {},
     "output_type": "display_data"
    },
    {
     "data": {
      "application/vnd.jupyter.widget-view+json": {
       "model_id": "",
       "version_major": 2,
       "version_minor": 0
      },
      "text/plain": [
       "  0%|          | 0/500 [00:00<?, ?it/s]"
      ]
     },
     "metadata": {},
     "output_type": "display_data"
    },
    {
     "data": {
      "image/png": "[encoded data removed]",
      "text/plain": [
       "<Figure size 864x576 with 1 Axes>"
      ]
     },
     "metadata": {
      "needs_background": "light"
     },
     "output_type": "display_data"
    }
   ],
   "source": [
    "n_episodes = 500\n",
    "\n",
    "fig = plt.figure(figsize=(12, 8))\n",
    "\n",
    "for n, alpha in zip([1,4], [0.5, 0.3]):\n",
    "    avg_steps_per_episode = np.zeros(n_episodes)\n",
    "    for i in range(1,11):\n",
    "        steps_per_episode, w = run_nsarsa(n=n, n_episodes=n_episodes, alpha=alpha)\n",
    "        avg_steps_per_episode += (steps_per_episode - avg_steps_per_episode)/i\n",
    "    plt.plot(avg_steps_per_episode, label=f\"n = {n}\")\n",
    "    \n",
    "plt.ylim([100, 1000])\n",
    "plt.yscale(\"log\")\n",
    "plt.legend(loc='upper right')\n",
    "plt.show()"
   ]
  },
  {
   "cell_type": "markdown",
   "id": "466108af-4d74-483c-b265-9b0b42425b59",
   "metadata": {},
   "source": [
    "### Policy visualization"
   ]
  },
  {
   "cell_type": "code",
   "execution_count": 139,
   "id": "c2fdd065-c87b-41e6-ac13-44ab3a3205ec",
   "metadata": {},
   "outputs": [
    {
     "name": "stdout",
     "output_type": "stream",
     "text": [
      "Total reward = -105.0\n"
     ]
    }
   ],
   "source": [
    "s = env.reset()\n",
    "done = False\n",
    "total_reward = 0\n",
    "while not done:\n",
    "    env.render()\n",
    "    # greedy policy\n",
    "    a = max(range(3), key=lambda a: q_hat(s,a,w))\n",
    "    s, r, done, info = env.step(a)\n",
    "    total_reward += r\n",
    "    time.sleep(0.01)\n",
    "env.close()\n",
    "print(\"Total reward =\", total_reward)"
   ]
  },
  {
   "cell_type": "code",
   "execution_count": null,
   "id": "36629979-6973-4f44-b953-ceacb6642902",
   "metadata": {},
   "outputs": [],
   "source": []
  }
 ],
 "metadata": {
  "kernelspec": {
   "display_name": "Python [conda env:rlenv]",
   "language": "python",
   "name": "conda-env-rlenv-py"
  },
  "language_info": {
   "codemirror_mode": {
    "name": "ipython",
    "version": 3
   },
   "file_extension": ".py",
   "mimetype": "text/x-python",
   "name": "python",
   "nbconvert_exporter": "python",
   "pygments_lexer": "ipython3",
   "version": "3.8.11"
  }
 },
 "nbformat": 4,
 "nbformat_minor": 5
}
